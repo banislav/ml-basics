{
 "cells": [
  {
   "cell_type": "code",
   "execution_count": 27,
   "id": "c067a9d1-4add-4674-8c61-044ff966a61a",
   "metadata": {},
   "outputs": [],
   "source": [
    "from typing import List, Union, Tuple\n",
    "import numpy as np\n",
    "from sklearn.datasets import make_classification\n",
    "from sklearn.model_selection import train_test_split\n",
    "import matplotlib.pyplot as plt"
   ]
  },
  {
   "cell_type": "code",
   "execution_count": 40,
   "id": "9c1d3a17-7b34-49fe-9fe8-0296f12072d3",
   "metadata": {},
   "outputs": [],
   "source": [
    "features = 100\n",
    "X, y = make_classification(n_samples=500, n_features=features, n_redundant=0, n_repeated=0, n_informative=2)\n",
    "X_train, X_test, y_train, y_test = train_test_split(X, y, train_size=0.7)"
   ]
  },
  {
   "cell_type": "code",
   "execution_count": 77,
   "id": "20e1a64b-69d2-4de2-b365-ac35256fd29b",
   "metadata": {},
   "outputs": [],
   "source": [
    "class LogisticRegressor:\n",
    "    def __init__(self, features):\n",
    "        self.learning_rate = 0.001\n",
    "        self.b = 0\n",
    "        self.costs = np.array([], dtype=float)\n",
    "        self.weights = np.zeros((1, features))\n",
    "        self.losses = np.array([], dtype=float)\n",
    "    \n",
    "    def fit(self, X:List[List[float]], y:List[int]):\n",
    "        self.X, self.y = X, y\n",
    "        \n",
    "        for epoch in range(10):\n",
    "            for i in range(self.X.shape[0]):\n",
    "                y = self.predict(self.X[i])\n",
    "                prob_y = self.sigmoid_activation(y)\n",
    "\n",
    "                loss = self.calculate_loss(prob_y, self.y[i])\n",
    "\n",
    "                der_lw, der_lb = self.calculate_grads(self.X[i], prob_y, self.y[i])\n",
    "                self.weights = self.weights - self.learning_rate * der_lw\n",
    "                self.b = self.b - der_lb\n",
    "            if epoch % 5 == 0:\n",
    "                np.append(self.losses, loss)\n",
    "                print(loss)\n",
    "        \n",
    "    def sigmoid_activation(self, x: float) -> float:\n",
    "        return 1/(1 + np.exp(-x))\n",
    "    \n",
    "    def calculate_loss(self, y: float, true_label: int) -> float:\n",
    "        return (-true_label * np.log2(y)) - (1 - true_label) * np.log2(1 - y)\n",
    "        \n",
    "    def calculate_grads(self, x:List[float], y: float, true_label: int) -> Tuple[List[float], float]:\n",
    "        der_lw = x * (y - true_label) * (1/np.log(2))\n",
    "        der_lb = y - true_label\n",
    "        \n",
    "        return der_lw, der_lb\n",
    "    \n",
    "    def predict(self, x: List[float]):\n",
    "        return self.sigmoid_activation(np.dot(self.weights, x.T) + self.b)\n",
    "        "
   ]
  },
  {
   "cell_type": "code",
   "execution_count": 78,
   "id": "87ce1e42-4b78-4785-8eec-3ac3af445006",
   "metadata": {},
   "outputs": [
    {
     "name": "stdout",
     "output_type": "stream",
     "text": [
      "[1.00052936]\n",
      "[1.]\n"
     ]
    },
    {
     "data": {
      "text/plain": [
       "array([], dtype=float64)"
      ]
     },
     "execution_count": 78,
     "metadata": {},
     "output_type": "execute_result"
    }
   ],
   "source": [
    "regressor = LogisticRegressor(features)\n",
    "regressor.fit(X_train, y_train)\n",
    "preds = regressor.predict(X_test)\n",
    "regressor.losses"
   ]
  },
  {
   "cell_type": "code",
   "execution_count": null,
   "id": "a511d20e-f634-439a-9ef0-88b4de6a3251",
   "metadata": {},
   "outputs": [],
   "source": []
  }
 ],
 "metadata": {
  "kernelspec": {
   "display_name": "sexozavr-ml",
   "language": "python",
   "name": "sexozavr-ml"
  },
  "language_info": {
   "codemirror_mode": {
    "name": "ipython",
    "version": 3
   },
   "file_extension": ".py",
   "mimetype": "text/x-python",
   "name": "python",
   "nbconvert_exporter": "python",
   "pygments_lexer": "ipython3",
   "version": "3.9.13"
  }
 },
 "nbformat": 4,
 "nbformat_minor": 5
}
