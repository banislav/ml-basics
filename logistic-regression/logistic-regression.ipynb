{
 "cells": [
  {
   "cell_type": "code",
   "execution_count": 2,
   "id": "c067a9d1-4add-4674-8c61-044ff966a61a",
   "metadata": {},
   "outputs": [],
   "source": [
    "from typing import List, Union\n",
    "import numpy as np\n",
    "from sklearn.datasets import make_classification\n",
    "from sklearn.model_selection import train_test_split"
   ]
  },
  {
   "cell_type": "code",
   "execution_count": 3,
   "id": "9c1d3a17-7b34-49fe-9fe8-0296f12072d3",
   "metadata": {},
   "outputs": [],
   "source": [
    "X, y = make_classification(n_samples=400, n_features=100)\n",
    "X_train, X_test, y_train, y_test = train_test_split(X, y, train_size=0.7)"
   ]
  },
  {
   "cell_type": "code",
   "execution_count": 14,
   "id": "20e1a64b-69d2-4de2-b365-ac35256fd29b",
   "metadata": {},
   "outputs": [],
   "source": [
    "class LogisticRegressor:\n",
    "    def __init__(self):\n",
    "        self.learning_rate = 0.01\n",
    "        self.b = 0\n",
    "        self.costs = np.array([], dtype=float)\n",
    "        self.weights = np.array([], dtype=float)\n",
    "    \n",
    "    def fit(self, X:List[List[float]], y:List[int]):\n",
    "        self.X, self.y = X, y\n",
    "        \n",
    "        \n",
    "        \n",
    "    def sigmoid_activation(self, x):\n",
    "        return 1/(1 + np.exp(-x))\n",
    "        \n",
    "    def calculate_grads(self, x:List[float], y: float, true_label: int):\n",
    "        der_lw = x * (y - true_label) * (1/np.log(2))\n",
    "        der_lb = \n",
    "    \n",
    "    def predict(self, x):\n",
    "        return np.dot(self.weights, x) + self.b"
   ]
  },
  {
   "cell_type": "code",
   "execution_count": 13,
   "id": "87ce1e42-4b78-4785-8eec-3ac3af445006",
   "metadata": {},
   "outputs": [
    {
     "data": {
      "text/plain": [
       "0.5"
      ]
     },
     "execution_count": 13,
     "metadata": {},
     "output_type": "execute_result"
    }
   ],
   "source": [
    "regressor = LogisticRegressor()\n",
    "regressor.sigmoid_activation(0)"
   ]
  },
  {
   "cell_type": "code",
   "execution_count": null,
   "id": "a511d20e-f634-439a-9ef0-88b4de6a3251",
   "metadata": {},
   "outputs": [],
   "source": []
  }
 ],
 "metadata": {
  "kernelspec": {
   "display_name": "sexozavr-ml",
   "language": "python",
   "name": "sexozavr-ml"
  },
  "language_info": {
   "codemirror_mode": {
    "name": "ipython",
    "version": 3
   },
   "file_extension": ".py",
   "mimetype": "text/x-python",
   "name": "python",
   "nbconvert_exporter": "python",
   "pygments_lexer": "ipython3",
   "version": "3.9.13"
  }
 },
 "nbformat": 4,
 "nbformat_minor": 5
}
