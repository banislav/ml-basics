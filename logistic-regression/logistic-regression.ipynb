{
 "cells": [
  {
   "cell_type": "code",
   "execution_count": 3,
   "id": "c067a9d1-4add-4674-8c61-044ff966a61a",
   "metadata": {},
   "outputs": [],
   "source": [
    "from typing import List, Union\n",
    "import numpy as np\n",
    "from sklearn.datasets import make_classification\n",
    "from sklearn.model_selection import train_test_split"
   ]
  },
  {
   "cell_type": "code",
   "execution_count": 15,
   "id": "9c1d3a17-7b34-49fe-9fe8-0296f12072d3",
   "metadata": {},
   "outputs": [],
   "source": [
    "X, y = make_classification(n_samples=400, n_features=100)\n",
    "X_train, X_test, y_train, y_test = train_test_split(X, y, train_size=0.7)"
   ]
  },
  {
   "cell_type": "code",
   "execution_count": 17,
   "id": "20e1a64b-69d2-4de2-b365-ac35256fd29b",
   "metadata": {},
   "outputs": [],
   "source": [
    "class LogisticRegressor:\n",
    "    def __init__(self):\n",
    "        self.learning_rate = 0.01\n",
    "    \n",
    "    def fit(self, X:List[List[float]], y:List[int]):\n",
    "        self.X, self.y = X, y\n",
    "    \n",
    "    def predict(self, x):\n",
    "        raise NotImplementedError()"
   ]
  },
  {
   "cell_type": "code",
   "execution_count": null,
   "id": "714a38f0-8af5-4e32-8d0b-7a25f9bffc54",
   "metadata": {},
   "outputs": [],
   "source": []
  }
 ],
 "metadata": {
  "kernelspec": {
   "display_name": "sexozavr-ml",
   "language": "python",
   "name": "sexozavr-ml"
  },
  "language_info": {
   "codemirror_mode": {
    "name": "ipython",
    "version": 3
   },
   "file_extension": ".py",
   "mimetype": "text/x-python",
   "name": "python",
   "nbconvert_exporter": "python",
   "pygments_lexer": "ipython3",
   "version": "3.9.13"
  }
 },
 "nbformat": 4,
 "nbformat_minor": 5
}
