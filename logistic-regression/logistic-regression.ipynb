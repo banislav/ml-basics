{
 "cells": [
  {
   "cell_type": "code",
   "execution_count": 1,
   "id": "c067a9d1-4add-4674-8c61-044ff966a61a",
   "metadata": {},
   "outputs": [],
   "source": [
    "from typing import List, Union, Tuple\n",
    "import numpy as np\n",
    "from sklearn.datasets import make_classification\n",
    "from sklearn.model_selection import train_test_split\n",
    "from sklearn.linear_model import LogisticRegression\n",
    "import matplotlib.pyplot as plt"
   ]
  },
  {
   "cell_type": "code",
   "execution_count": 219,
   "id": "9c1d3a17-7b34-49fe-9fe8-0296f12072d3",
   "metadata": {},
   "outputs": [],
   "source": [
    "features = 100\n",
    "X, y = make_classification(n_samples=10000, n_features=features)\n",
    "X_train, X_test, y_train, y_test = train_test_split(X, y, train_size=0.7)"
   ]
  },
  {
   "cell_type": "code",
   "execution_count": 220,
   "id": "20e1a64b-69d2-4de2-b365-ac35256fd29b",
   "metadata": {},
   "outputs": [],
   "source": [
    "class LogisticRegressor:\n",
    "    def __init__(self, features):\n",
    "        self.learning_rate = 0.001\n",
    "        self.b = 0\n",
    "        self.weights = np.zeros((1, features))\n",
    "        self.losses = np.array([], dtype=float)\n",
    "        self.threshold = 0.5\n",
    "    \n",
    "    def fit(self, X:List[List[float]], y:List[int]):\n",
    "        self.X, self.y = X, y\n",
    "        \n",
    "        for epoch in range(800):\n",
    "            for i in range(self.X.shape[0]):\n",
    "                y = self.sigmoid_activation(np.dot(self.weights, self.X[i].T) + self.b)\n",
    "\n",
    "                loss = self.calculate_loss(y, self.y[i])\n",
    "\n",
    "                der_lw, der_lb = self.calculate_grads(self.X[i], y, self.y[i])\n",
    "                \n",
    "                self.weights = self.weights - self.learning_rate * der_lw\n",
    "                self.b = self.b - self.learning_rate * der_lb\n",
    "                \n",
    "            self.losses = np.append(self.losses, loss)\n",
    "            \n",
    "    def sigmoid_activation(self, x: float) -> float:\n",
    "        return 1/(1 + np.exp(-x))\n",
    "    \n",
    "    def calculate_loss(self, y: float, true_label: int) -> float:\n",
    "        return ((-true_label * np.log(y)) - (1 - true_label) * np.log(1 - y))\n",
    "        \n",
    "    def calculate_grads(self, x:List[float], y: float, true_label: int) -> Tuple[List[float], float]:\n",
    "        der_lw = x * (y - true_label)\n",
    "        der_lb = (y - true_label) \n",
    "        \n",
    "        return der_lw, der_lb\n",
    "    \n",
    "    def predict(self, x: List[List[float]]) -> List[int]:\n",
    "        preds = np.array([], dtype=int)\n",
    "        \n",
    "        for i in range(x.shape[0]):\n",
    "            pred = self.sigmoid_activation(np.dot(self.weights, x[i].T) + self.b)\n",
    "            pred = 0 if (pred <= self.threshold).all() else 1\n",
    "            preds = np.append(preds, pred)\n",
    "        \n",
    "        return preds"
   ]
  },
  {
   "cell_type": "code",
   "execution_count": 221,
   "id": "87ce1e42-4b78-4785-8eec-3ac3af445006",
   "metadata": {},
   "outputs": [],
   "source": [
    "regressor = LogisticRegressor(features)\n",
    "regressor.fit(X_train, y_train)"
   ]
  },
  {
   "cell_type": "code",
   "execution_count": 222,
   "id": "c1af6430-e2a7-4fe2-815a-f36311d680ce",
   "metadata": {},
   "outputs": [
    {
     "data": {
      "text/plain": [
       "[<matplotlib.lines.Line2D at 0x284aae940>]"
      ]
     },
     "execution_count": 222,
     "metadata": {},
     "output_type": "execute_result"
    },
    {
     "data": {
      "image/png": "[encoded data removed]",
      "text/plain": [
       "<Figure size 640x480 with 1 Axes>"
      ]
     },
     "metadata": {},
     "output_type": "display_data"
    }
   ],
   "source": [
    "preds = regressor.predict(X_test)\n",
    "plt.plot([i for i in range(regressor.losses.shape[0])], regressor.losses)"
   ]
  },
  {
   "cell_type": "code",
   "execution_count": 224,
   "id": "160debe2-5941-4682-a7c8-63027d599f1c",
   "metadata": {},
   "outputs": [
    {
     "data": {
      "text/plain": [
       "array([ True,  True,  True, ...,  True,  True,  True])"
      ]
     },
     "execution_count": 224,
     "metadata": {},
     "output_type": "execute_result"
    }
   ],
   "source": [
    "clf = LogisticRegression(random_state=0).fit(X_train, y_train)\n",
    "preds == clf.predict(X_test)"
   ]
  },
  {
   "cell_type": "code",
   "execution_count": null,
   "id": "548b1997-0e15-41b5-b03e-c217bb5b32c9",
   "metadata": {},
   "outputs": [],
   "source": []
  }
 ],
 "metadata": {
  "kernelspec": {
   "display_name": "sexozavr-ml",
   "language": "python",
   "name": "sexozavr-ml"
  },
  "language_info": {
   "codemirror_mode": {
    "name": "ipython",
    "version": 3
   },
   "file_extension": ".py",
   "mimetype": "text/x-python",
   "name": "python",
   "nbconvert_exporter": "python",
   "pygments_lexer": "ipython3",
   "version": "3.9.13"
  }
 },
 "nbformat": 4,
 "nbformat_minor": 5
}
