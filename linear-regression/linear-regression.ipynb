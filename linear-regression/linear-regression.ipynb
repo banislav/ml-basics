{
 "cells": [
  {
   "cell_type": "code",
   "execution_count": 113,
   "id": "6be72eb9-25f3-45f7-bd3a-5b48352336da",
   "metadata": {},
   "outputs": [],
   "source": [
    "from typing import List, Tuple\n",
    "import numpy as np\n",
    "import pandas as pd\n",
    "from sklearn.datasets import make_regression\n",
    "from sklearn.model_selection import train_test_split\n",
    "import matplotlib.pyplot as plt"
   ]
  },
  {
   "cell_type": "code",
   "execution_count": 102,
   "id": "eca61840-cb8e-4ee9-a8bd-1a5f72ba411e",
   "metadata": {},
   "outputs": [],
   "source": [
    "X, y = make_regression(n_samples=1000)\n",
    "X_train, X_test, y_train, y_test = train_test_split(X, y, random_state=42, test_size=0.3)"
   ]
  },
  {
   "cell_type": "code",
   "execution_count": 131,
   "id": "8e98e7fd-56fc-4e9c-9481-385356efff43",
   "metadata": {},
   "outputs": [],
   "source": [
    "class LinearRegressor:\n",
    "    def __init__(self) -> None:\n",
    "        self.learning_rate = 0.001\n",
    "        self.weights = np.array([0 for i in range(0, 100)])\n",
    "        self.b = 0\n",
    "        self.losses = np.array([], dtype=np.float64)\n",
    "    \n",
    "    def fit(self, X_train:List[List[float]], y:List[float]) -> None:\n",
    "        self.X = X\n",
    "        self.y = y\n",
    "        \n",
    "        for epoch in range(4):\n",
    "            for i in range(X_train.shape[0]):\n",
    "                y = self.predict(X_train[i])\n",
    "                loss = (y - self.y[i]) ** 2\n",
    "                \n",
    "                np.append(self.losses, loss)\n",
    "\n",
    "                der_lw, der_lb = self.calculate_grads(X_train[i], y, self.y[i])\n",
    "\n",
    "                self.weights = self.weights - self.learning_rate * der_lw\n",
    "                self.b = self.b - self.learning_rate * der_lb\n",
    "            \n",
    "            if epoch % 1 == 0:\n",
    "                print(loss)\n",
    "                \n",
    "    def calculate_grads(self, x:List[float], y:float, true_label:float) -> Tuple[float, float]:\n",
    "        der_lw = 2 * x * (y - true_label)\n",
    "        der_lb = 2 * (y - true_label)\n",
    "        \n",
    "        return der_lw, der_lb\n",
    "    \n",
    "    def predict(self, x:List[float]) -> float:\n",
    "        return np.dot(x, self.weights) + self.b\n",
    "    "
   ]
  },
  {
   "cell_type": "code",
   "execution_count": 140,
   "id": "330edbd3-e3af-48b4-ade2-38ee3c4a1f2c",
   "metadata": {},
   "outputs": [
    {
     "name": "stdout",
     "output_type": "stream",
     "text": [
      "9443.321428111007\n",
      "596.242642563753\n",
      "40.44619753837042\n",
      "3.0207127848825617\n"
     ]
    }
   ],
   "source": [
    "regressor = LinearRegressor()\n",
    "regressor.fit(X_train, y_train)\n",
    "preds = regressor.predict(X_test)"
   ]
  }
 ],
 "metadata": {
  "kernelspec": {
   "display_name": "sexozavr-ml",
   "language": "python",
   "name": "sexozavr-ml"
  },
  "language_info": {
   "codemirror_mode": {
    "name": "ipython",
    "version": 3
   },
   "file_extension": ".py",
   "mimetype": "text/x-python",
   "name": "python",
   "nbconvert_exporter": "python",
   "pygments_lexer": "ipython3",
   "version": "3.9.13"
  }
 },
 "nbformat": 4,
 "nbformat_minor": 5
}
