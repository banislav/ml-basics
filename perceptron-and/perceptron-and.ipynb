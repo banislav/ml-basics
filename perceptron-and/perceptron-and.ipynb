{
 "cells": [
  {
   "cell_type": "code",
   "execution_count": 443,
   "id": "a14a998b-b5ad-464e-86cb-8e88879ee303",
   "metadata": {},
   "outputs": [],
   "source": [
    "from typing import List, Callable\n",
    "import numpy as np\n",
    "from sklearn.model_selection import train_test_split\n",
    "from sklearn.datasets import make_classification"
   ]
  },
  {
   "cell_type": "code",
   "execution_count": 305,
   "id": "270e3500-2336-41ab-b94e-8e878878dc1c",
   "metadata": {},
   "outputs": [],
   "source": [
    "X, y = make_classification(n_samples=100, n_features=4, n_informative=4, n_redundant=0, n_repeated=0)\n",
    "for i in range(X.shape[0]):\n",
    "    if y[i] == 0:\n",
    "        X[i] = np.random.randint(2, size=4, dtype=int)\n",
    "    else:\n",
    "        X[i] = np.array([1, 1, 1, 1], dtype=int)"
   ]
  },
  {
   "cell_type": "code",
   "execution_count": 306,
   "id": "79cf7b13-25ac-4383-bf46-605d865fc5d4",
   "metadata": {},
   "outputs": [],
   "source": [
    "X_train, X_test, y_train, y_test = train_test_split(X, y, test_size=0.2, shuffle=False, random_state=42)"
   ]
  },
  {
   "cell_type": "code",
   "execution_count": 543,
   "id": "df38a96f-3b8b-4e81-9f26-f9e1d0743e69",
   "metadata": {},
   "outputs": [],
   "source": [
    "class AndPerceptron():\n",
    "    def __init__(self, \n",
    "                 learning_rate:float = 0.1, \n",
    "                 training_steps:int = 11000, \n",
    "                 activation: Callable = lambda x: 0 if x < 0 else 1) -> None:\n",
    "        self.weights = np.zeros(4)\n",
    "        self.activation = activation\n",
    "        self.learning_rate = learning_rate\n",
    "        self.training_steps = training_steps\n",
    "        \n",
    "    \n",
    "    def fit(self, X: List[List[int]], y: List[int]) -> None:\n",
    "        for epoch in range(self.training_steps):\n",
    "            \n",
    "            rand = np.random.randint(0, X.shape[0])\n",
    "            x_sel, y_sel = X[rand], y[rand]\n",
    "            \n",
    "            y_pred = self.activation(np.dot(self.weights, x_sel))\n",
    "            loss = y_sel - y_pred\n",
    "            \n",
    "            self.weights += loss * self.learning_rate * x_sel\n",
    "                \n",
    "            \n",
    "    def predict(self, X: List[List[int]]) -> List[int]:\n",
    "        preds = np.dot(X, self.weights)\n",
    "        return [self.activation(pred) for pred in preds]"
   ]
  },
  {
   "cell_type": "code",
   "execution_count": 551,
   "id": "011c31a1-30f3-479e-9ca4-dea2ab8536bb",
   "metadata": {},
   "outputs": [],
   "source": [
    "perceptron = AndPerceptron()\n",
    "perceptron.fit(X_train, y_train)"
   ]
  },
  {
   "cell_type": "code",
   "execution_count": 552,
   "id": "6fa27f35-6cdd-4fbd-992f-49db2f130adc",
   "metadata": {},
   "outputs": [
    {
     "data": {
      "text/plain": [
       "array([ True,  True,  True, False,  True,  True,  True,  True, False,\n",
       "        True, False, False, False,  True,  True, False,  True,  True,\n",
       "        True, False])"
      ]
     },
     "execution_count": 552,
     "metadata": {},
     "output_type": "execute_result"
    }
   ],
   "source": [
    "preds = perceptron.predict(X_test)\n",
    "preds == y_test"
   ]
  },
  {
   "cell_type": "code",
   "execution_count": 264,
   "id": "42721ba0-6b54-409f-996a-c08d62319cb0",
   "metadata": {},
   "outputs": [
    {
     "data": {
      "text/plain": [
       "(array([0., 1., 1., 1.]), 0)"
      ]
     },
     "execution_count": 264,
     "metadata": {},
     "output_type": "execute_result"
    }
   ],
   "source": [
    "X_test[7], y_test[7]"
   ]
  },
  {
   "cell_type": "code",
   "execution_count": null,
   "id": "c37936fb-bb15-49cb-9550-8c058fcd20f4",
   "metadata": {},
   "outputs": [],
   "source": []
  }
 ],
 "metadata": {
  "kernelspec": {
   "display_name": "sexozavr-ml",
   "language": "python",
   "name": "sexozavr-ml"
  },
  "language_info": {
   "codemirror_mode": {
    "name": "ipython",
    "version": 3
   },
   "file_extension": ".py",
   "mimetype": "text/x-python",
   "name": "python",
   "nbconvert_exporter": "python",
   "pygments_lexer": "ipython3",
   "version": "3.9.13"
  }
 },
 "nbformat": 4,
 "nbformat_minor": 5
}
