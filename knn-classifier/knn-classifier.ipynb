{
 "cells": [
  {
   "cell_type": "code",
   "execution_count": 49,
   "id": "f59d38b7-0b1c-48af-884b-e313087faf49",
   "metadata": {},
   "outputs": [],
   "source": [
    "from typing import List\n",
    "import numpy as np\n",
    "import pandas as pd\n",
    "from sklearn.datasets import make_classification\n",
    "from sklearn.model_selection import train_test_split\n",
    "from sklearn.neighbors import KNeighborsClassifier"
   ]
  },
  {
   "cell_type": "code",
   "execution_count": 69,
   "id": "dd16da3c-a503-40a6-910f-22198ad94f7a",
   "metadata": {},
   "outputs": [],
   "source": [
    "X, y = make_classification()\n",
    "X_train, X_test, y_train, y_test = train_test_split(X, y)"
   ]
  },
  {
   "cell_type": "code",
   "execution_count": 83,
   "id": "0e2d1f83-66b8-4451-9af9-4c0f5dc8ef5e",
   "metadata": {},
   "outputs": [],
   "source": [
    "class KnnClassifier:\n",
    "    def __init__(self, k_neighbors:int=5) -> None:\n",
    "        self.k_neighbors = k_neighbors\n",
    "        \n",
    "    def fit(self, X, y) -> None:\n",
    "        self.X, self.y = X, y\n",
    "    \n",
    "    def predict(self, X:List[float]) -> int:\n",
    "        norm_list = np.array([])\n",
    "        categories_list = np.array([], dtype=int)\n",
    "        \n",
    "        if X.shape[1] != self.X.shape[1]:\n",
    "            raise ValueError(\"Unexpected argument shape\")\n",
    "        \n",
    "        for x in X:\n",
    "            norm_list = np.linalg.norm(self.X - x, axis=1)\n",
    "            neighbors_index = norm_list.argsort()[:self.k_neighbors]\n",
    "            neighbors_list = self.y[neighbors_index]\n",
    "            \n",
    "            values, counts = np.unique(neighbors_list, return_counts=True)\n",
    "            category = values[counts.argsort()[-1]]\n",
    "            categories_list = np.append(categories_list, category)\n",
    "            \n",
    "        return categories_list"
   ]
  },
  {
   "cell_type": "code",
   "execution_count": 84,
   "id": "6eec5f4f-2642-4c7f-9a40-b5b8d2e92d2e",
   "metadata": {},
   "outputs": [
    {
     "data": {
      "text/plain": [
       "array([1, 0, 0, 1, 0, 0, 0, 0, 1, 1, 1, 1, 1, 0, 0, 1, 1, 1, 0, 0, 0, 1,\n",
       "       1, 0, 1])"
      ]
     },
     "execution_count": 84,
     "metadata": {},
     "output_type": "execute_result"
    }
   ],
   "source": [
    "classifier = KnnClassifier()\n",
    "classifier.fit(X_train, y_train)\n",
    "classifier.predict(X_test)"
   ]
  },
  {
   "cell_type": "code",
   "execution_count": 85,
   "id": "f8e71010-e6cd-4d41-b375-d610b2057dca",
   "metadata": {},
   "outputs": [
    {
     "data": {
      "text/plain": [
       "array([1, 0, 0, 1, 0, 0, 0, 0, 1, 1, 1, 1, 1, 0, 0, 1, 1, 1, 0, 0, 0, 1,\n",
       "       1, 0, 1])"
      ]
     },
     "execution_count": 85,
     "metadata": {},
     "output_type": "execute_result"
    }
   ],
   "source": [
    "classifier = KNeighborsClassifier(n_neighbors=5)\n",
    "classifier.fit(X_train, y_train)\n",
    "classifier.predict(X_test)"
   ]
  }
 ],
 "metadata": {
  "kernelspec": {
   "display_name": "sexozavr-ml",
   "language": "python",
   "name": "sexozavr-ml"
  },
  "language_info": {
   "codemirror_mode": {
    "name": "ipython",
    "version": 3
   },
   "file_extension": ".py",
   "mimetype": "text/x-python",
   "name": "python",
   "nbconvert_exporter": "python",
   "pygments_lexer": "ipython3",
   "version": "3.9.13"
  }
 },
 "nbformat": 4,
 "nbformat_minor": 5
}
