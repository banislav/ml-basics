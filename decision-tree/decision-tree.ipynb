{
 "cells": [
  {
   "cell_type": "code",
   "execution_count": 9,
   "id": "b5b52394-8bbe-434c-b72b-e2efaddbe597",
   "metadata": {},
   "outputs": [],
   "source": [
    "from typing import List, Tuple, Dict, Union\n",
    "import numpy as np\n",
    "import pandas as pd\n",
    "from sklearn.datasets import make_classification\n",
    "from sklearn.model_selection import train_test_split"
   ]
  },
  {
   "cell_type": "code",
   "execution_count": 18,
   "id": "34946086-21c5-4737-bf3a-4628dfc829cd",
   "metadata": {},
   "outputs": [
    {
     "data": {
      "text/plain": [
       "(20,)"
      ]
     },
     "execution_count": 18,
     "metadata": {},
     "output_type": "execute_result"
    }
   ],
   "source": [
    "X, y = make_classification()\n",
    "X_train, X_test, y_train, y_test = train_test_split(X, y)"
   ]
  },
  {
   "cell_type": "code",
   "execution_count": 11,
   "id": "ff7bb58c-49e0-4226-bf44-4fca60f3ed22",
   "metadata": {},
   "outputs": [],
   "source": [
    "class DecisionTree:\n",
    "    def __init__(self, X, y) -> None:\n",
    "        self.X = X\n",
    "        self.y = y\n",
    "    \n",
    "    def build(self) -> None:\n",
    "        raise NotImplementedError()\n",
    "        \n",
    "    def predict(self, x):\n",
    "        raise NotImplementedError()\n",
    "        \n",
    "    def get_entropy(self):\n",
    "        raise NotImplementedError()\n",
    "    \n",
    "    class Node:\n",
    "        def __init__(self, \n",
    "                     features: Dict[str, Union[int, float]], \n",
    "                     left_child: object, \n",
    "                     right_child: object,\n",
    "                     value: Tuple[int, int]):\n",
    "            self.features = features\n",
    "            self.left_subtree = left_subtree\n",
    "            self.right_subtree = right_subtree\n",
    "            "
   ]
  },
  {
   "cell_type": "code",
   "execution_count": null,
   "id": "cc39d1c8-9f36-4a5a-9545-330d929d9bba",
   "metadata": {},
   "outputs": [],
   "source": []
  }
 ],
 "metadata": {
  "kernelspec": {
   "display_name": "sexozavr-ml",
   "language": "python",
   "name": "sexozavr-ml"
  },
  "language_info": {
   "codemirror_mode": {
    "name": "ipython",
    "version": 3
   },
   "file_extension": ".py",
   "mimetype": "text/x-python",
   "name": "python",
   "nbconvert_exporter": "python",
   "pygments_lexer": "ipython3",
   "version": "3.9.13"
  }
 },
 "nbformat": 4,
 "nbformat_minor": 5
}
