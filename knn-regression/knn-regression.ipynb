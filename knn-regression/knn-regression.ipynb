{
 "cells": [
  {
   "cell_type": "code",
   "execution_count": 72,
   "id": "c1f076ba-2f8f-44dc-92aa-390a6044ae86",
   "metadata": {},
   "outputs": [],
   "source": [
    "import numpy as np\n",
    "import matplotlib.pyplot as plt\n",
    "import pandas as pd\n",
    "from sklearn.datasets import make_regression\n",
    "from sklearn.neighbors import KNeighborsRegressor\n",
    "from sklearn.model_selection import train_test_split\n",
    "from typing import List"
   ]
  },
  {
   "cell_type": "code",
   "execution_count": 73,
   "id": "2c17d7d3-c19c-40d3-824b-ae52bb8374cb",
   "metadata": {},
   "outputs": [],
   "source": [
    "class KnnRegressor:\n",
    "    def __init__(self, k:int=5, n_features:int=100, noise:int=50) -> None:\n",
    "        self.k = k\n",
    "        self.n_features = n_features\n",
    "        self.noise = noise\n",
    "    \n",
    "    def load_data(self) -> None:\n",
    "        X, y = make_regression(n_features=self.n_features, noise=self.noise)\n",
    "        self.X_train, self.X_test, self.y_train, self.y_test = train_test_split(X, y)\n",
    "        \n",
    "    def predict(self, x:List) -> float:\n",
    "        train_array = np.array(list(zip(self.X_train, self.y_train)), dtype=object)\n",
    "        predict_values = np.array([])\n",
    "        \n",
    "        if x.shape[1] != self.X_train.shape[1]:\n",
    "            raise ValueError(\"value x is not suitable\")\n",
    "            \n",
    "        for item in x:\n",
    "            norm_list = [(np.linalg.norm(item - train_array[i][0]), train_array[i][1]) for i in range(train_array.shape[0])]\n",
    "            norm_list = sorted(norm_list, key=lambda x: x[0])\n",
    "            \n",
    "            predict_values = np.append(predict_values, np.mean(norm_list[:self.k]))\n",
    "        \n",
    "        return predict_values"
   ]
  },
  {
   "cell_type": "code",
   "execution_count": 74,
   "id": "a6bb0914-c5e0-4e6c-b822-b6743849e21a",
   "metadata": {},
   "outputs": [
    {
     "data": {
      "text/plain": [
       "array([ 51.90999666,  14.52065883,  21.38036438,  -1.09070422,\n",
       "       -12.50116897,  16.42582899,  38.42106931, -56.49306168,\n",
       "        39.13307637,   2.23930946,  -7.62133634,  55.75532152,\n",
       "       -48.28959562,  18.61518136,  67.33488561, -60.23594632,\n",
       "        23.79778305,   1.6093096 ,   8.93323579,  24.37116165,\n",
       "         7.90152424,  15.17386128,   6.13314841,  -1.22074885,\n",
       "        34.90685269])"
      ]
     },
     "execution_count": 74,
     "metadata": {},
     "output_type": "execute_result"
    }
   ],
   "source": [
    "regressor = KnnRegressor(k=5)\n",
    "regressor.load_data()\n",
    "regressor.predict(regressor.X_test)"
   ]
  },
  {
   "cell_type": "code",
   "execution_count": 75,
   "id": "1b60f266-b2ea-4e76-b84b-cf6c8a1866d6",
   "metadata": {},
   "outputs": [
    {
     "data": {
      "text/plain": [
       "array([  91.26293789,   15.39028948,   29.76732615,  -15.08752955,\n",
       "        -38.10502699,   20.84343405,   64.97911786, -126.19087911,\n",
       "         65.99209955,   -8.3103608 ,  -28.47312865,   98.79294874,\n",
       "       -108.9287639 ,   25.16440187,  121.54336397, -132.24000186,\n",
       "         34.96368022,   -8.71465145,    6.39051636,   35.60117955,\n",
       "          4.30162817,   18.60689429,   -1.36214743,  -14.69075085,\n",
       "         56.39164492])"
      ]
     },
     "execution_count": 75,
     "metadata": {},
     "output_type": "execute_result"
    }
   ],
   "source": [
    "neighbors = KNeighborsRegressor()\n",
    "neighbors.fit(X=regressor.X_train, y=regressor.y_train)\n",
    "neighbors.predict(regressor.X_test)"
   ]
  },
  {
   "cell_type": "code",
   "execution_count": null,
   "id": "827c8f4e-09be-43b1-a6dc-d6df47f1c07a",
   "metadata": {},
   "outputs": [],
   "source": []
  }
 ],
 "metadata": {
  "kernelspec": {
   "display_name": "sexozavr-ml",
   "language": "python",
   "name": "sexozavr-ml"
  },
  "language_info": {
   "codemirror_mode": {
    "name": "ipython",
    "version": 3
   },
   "file_extension": ".py",
   "mimetype": "text/x-python",
   "name": "python",
   "nbconvert_exporter": "python",
   "pygments_lexer": "ipython3",
   "version": "3.9.13"
  }
 },
 "nbformat": 4,
 "nbformat_minor": 5
}
