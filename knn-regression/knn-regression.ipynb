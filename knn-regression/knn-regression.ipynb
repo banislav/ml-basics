{
 "cells": [
  {
   "cell_type": "code",
   "execution_count": 20,
   "id": "c1f076ba-2f8f-44dc-92aa-390a6044ae86",
   "metadata": {},
   "outputs": [],
   "source": [
    "from typing import List\n",
    "import numpy as np\n",
    "import matplotlib.pyplot as plt\n",
    "import pandas as pd\n",
    "from sklearn.datasets import make_regression\n",
    "from sklearn.neighbors import KNeighborsRegressor\n",
    "from sklearn.model_selection import train_test_split"
   ]
  },
  {
   "cell_type": "code",
   "execution_count": 37,
   "id": "e9e70f88-e836-49a7-a9a8-51262b2916bb",
   "metadata": {},
   "outputs": [],
   "source": [
    "X, y = make_regression(n_features=100, noise=100)\n",
    "X_train, X_test, y_train, y_test = train_test_split(X, y)"
   ]
  },
  {
   "cell_type": "code",
   "execution_count": 38,
   "id": "2c17d7d3-c19c-40d3-824b-ae52bb8374cb",
   "metadata": {},
   "outputs": [],
   "source": [
    "class KnnRegressor:\n",
    "    def __init__(self, k_neighbors:int=5) -> None:\n",
    "        self.k_neighbors = k_neighbors\n",
    "    \n",
    "    def load_data(self, X:List[List[float]], y:List[float]) -> None:\n",
    "        self.X, self.y = X, y\n",
    "        \n",
    "    def predict(self, x:List[float]) -> List[float]:\n",
    "        predict_values = np.array([])\n",
    "        \n",
    "        if x.shape[1] != self.X.shape[1]:\n",
    "            raise ValueError(\"value x is not suitable\")\n",
    "            \n",
    "        for item in x:\n",
    "            norm_list = np.array(np.linalg.norm(self.X - item, axis=1))\n",
    "            neighbors_indexes = norm_list.argsort()[:self.k_neighbors]\n",
    "            \n",
    "            predict_values = np.append(predict_values, np.mean(self.y[neighbors_indexes]))\n",
    "        \n",
    "        return predict_values"
   ]
  },
  {
   "cell_type": "code",
   "execution_count": 39,
   "id": "a6bb0914-c5e0-4e6c-b822-b6743849e21a",
   "metadata": {},
   "outputs": [
    {
     "data": {
      "text/plain": [
       "array([-117.26609005,  103.12097673,  -96.79222601,  -85.02276022,\n",
       "       -109.20802319,  -62.49546636,  -87.66991234,   -0.46029526,\n",
       "         -1.47478273,   -4.33545319, -152.43243395,    1.36357421,\n",
       "         -8.56286706,   -3.82373672,  -35.05493438, -197.30498676,\n",
       "        -46.79734356, -184.7544811 ,  -61.12947952, -119.83326593,\n",
       "         59.53742863,   -3.07001571, -173.7086403 , -172.41546476,\n",
       "        -43.66090842])"
      ]
     },
     "execution_count": 39,
     "metadata": {},
     "output_type": "execute_result"
    }
   ],
   "source": [
    "regressor = KnnRegressor(k_neighbors=5)\n",
    "regressor.load_data(X=X_train, y=y_train)\n",
    "regressor.predict(X_test)"
   ]
  },
  {
   "cell_type": "code",
   "execution_count": 40,
   "id": "1b60f266-b2ea-4e76-b84b-cf6c8a1866d6",
   "metadata": {},
   "outputs": [
    {
     "data": {
      "text/plain": [
       "array([-117.26609005,  103.12097673,  -96.79222601,  -85.02276022,\n",
       "       -109.20802319,  -62.49546636,  -87.66991234,   -0.46029526,\n",
       "         -1.47478273,   -4.33545319, -152.43243395,    1.36357421,\n",
       "         -8.56286706,   -3.82373672,  -35.05493438, -197.30498676,\n",
       "        -46.79734356, -184.7544811 ,  -61.12947952, -119.83326593,\n",
       "         59.53742863,   -3.07001571, -173.7086403 , -172.41546476,\n",
       "        -43.66090842])"
      ]
     },
     "execution_count": 40,
     "metadata": {},
     "output_type": "execute_result"
    }
   ],
   "source": [
    "neighbors = KNeighborsRegressor(n_neighbors=5)\n",
    "neighbors.fit(X=X_train, y=y_train)\n",
    "neighbors.predict(X_test)"
   ]
  },
  {
   "cell_type": "code",
   "execution_count": null,
   "id": "827c8f4e-09be-43b1-a6dc-d6df47f1c07a",
   "metadata": {},
   "outputs": [],
   "source": []
  }
 ],
 "metadata": {
  "kernelspec": {
   "display_name": "sexozavr-ml",
   "language": "python",
   "name": "sexozavr-ml"
  },
  "language_info": {
   "codemirror_mode": {
    "name": "ipython",
    "version": 3
   },
   "file_extension": ".py",
   "mimetype": "text/x-python",
   "name": "python",
   "nbconvert_exporter": "python",
   "pygments_lexer": "ipython3",
   "version": "3.9.13"
  }
 },
 "nbformat": 4,
 "nbformat_minor": 5
}
