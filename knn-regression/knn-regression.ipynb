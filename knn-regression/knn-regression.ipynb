{
 "cells": [
  {
   "cell_type": "code",
   "execution_count": 94,
   "id": "c1f076ba-2f8f-44dc-92aa-390a6044ae86",
   "metadata": {},
   "outputs": [],
   "source": [
    "import numpy as np\n",
    "import matplotlib.pyplot as plt\n",
    "import pandas as pd\n",
    "from sklearn.datasets import make_regression\n",
    "from sklearn.neighbors import KNeighborsRegressor\n",
    "from sklearn.model_selection import train_test_split\n",
    "from typing import List"
   ]
  },
  {
   "cell_type": "code",
   "execution_count": 104,
   "id": "e9e70f88-e836-49a7-a9a8-51262b2916bb",
   "metadata": {},
   "outputs": [],
   "source": [
    "X, y = make_regression(n_features=100, noise=100)\n",
    "X_train, X_test, y_train, y_test = train_test_split(X, y)"
   ]
  },
  {
   "cell_type": "code",
   "execution_count": 124,
   "id": "2c17d7d3-c19c-40d3-824b-ae52bb8374cb",
   "metadata": {},
   "outputs": [],
   "source": [
    "class KnnRegressor:\n",
    "    def __init__(self, k_neighbors:int=5) -> None:\n",
    "        self.k_neighbors = k_neighbors\n",
    "    \n",
    "    def load_data(self, n_features:int=100, noise:int=50) -> None:\n",
    "        self.n_features = n_features\n",
    "        self.noise = noise\n",
    "        \n",
    "        self.X_train, self.y_train = X_train, y_train\n",
    "        \n",
    "    def predict(self, x:List[float]) -> List[float]:\n",
    "        predict_values = np.array([])\n",
    "        \n",
    "        if x.shape[1] != self.X_train.shape[1]:\n",
    "            raise ValueError(\"value x is not suitable\")\n",
    "            \n",
    "        for item in x:\n",
    "            norm_list = [(np.linalg.norm(item - self.X_train[i]), self.y_train[i]) for i in range(self.X_train.shape[0])]\n",
    "            norm_list = sorted(norm_list, key=lambda x: x[0])\n",
    "            \n",
    "            predict_values = np.append(predict_values, np.mean(norm_list[:self.k_neighbors][1]))\n",
    "        \n",
    "        return predict_values"
   ]
  },
  {
   "cell_type": "code",
   "execution_count": 125,
   "id": "a6bb0914-c5e0-4e6c-b822-b6743849e21a",
   "metadata": {},
   "outputs": [
    {
     "data": {
      "text/plain": [
       "array([ 130.99559906,  130.55163902, -157.33191198,   47.36803537,\n",
       "       -112.87498987,  103.78405561,  -38.5058986 ,  -37.47208115,\n",
       "       -133.80563017,  100.97322314,  162.15965592,  158.95575624,\n",
       "         40.42840358, -252.68662432, -139.6796999 ,  -92.55923988,\n",
       "        137.76069691,  -37.35029533,   92.83965975, -139.97561121,\n",
       "        101.35911021,  -39.30206183, -140.00340949,   95.25429574,\n",
       "        -42.40804932])"
      ]
     },
     "execution_count": 125,
     "metadata": {},
     "output_type": "execute_result"
    }
   ],
   "source": [
    "regressor = KnnRegressor(k_neighbors=5)\n",
    "regressor.load_data()\n",
    "regressor.predict(X_test)"
   ]
  },
  {
   "cell_type": "code",
   "execution_count": 126,
   "id": "1b60f266-b2ea-4e76-b84b-cf6c8a1866d6",
   "metadata": {},
   "outputs": [
    {
     "data": {
      "text/plain": [
       "array([   8.65564616,  107.82328707, -127.483559  , -143.18368862,\n",
       "        104.94730304,   22.21810192,  168.64780652,  -37.47894625,\n",
       "        -93.32596568, -109.57477328,  233.87965358,   14.88385908,\n",
       "          3.88285176, -208.60835286,  -67.22002238, -124.89822078,\n",
       "        100.43247472,  -67.85029348,   31.51237607, -132.50863697,\n",
       "          6.20285366,   62.98942148,  122.14995167,   11.75726584,\n",
       "         21.74768354])"
      ]
     },
     "execution_count": 126,
     "metadata": {},
     "output_type": "execute_result"
    }
   ],
   "source": [
    "neighbors = KNeighborsRegressor(n_neighbors=5)\n",
    "neighbors.fit(X=X_train, y=y_train)\n",
    "neighbors.predict(X_test)"
   ]
  },
  {
   "cell_type": "code",
   "execution_count": null,
   "id": "827c8f4e-09be-43b1-a6dc-d6df47f1c07a",
   "metadata": {},
   "outputs": [],
   "source": []
  }
 ],
 "metadata": {
  "kernelspec": {
   "display_name": "sexozavr-ml",
   "language": "python",
   "name": "sexozavr-ml"
  },
  "language_info": {
   "codemirror_mode": {
    "name": "ipython",
    "version": 3
   },
   "file_extension": ".py",
   "mimetype": "text/x-python",
   "name": "python",
   "nbconvert_exporter": "python",
   "pygments_lexer": "ipython3",
   "version": "3.9.13"
  }
 },
 "nbformat": 4,
 "nbformat_minor": 5
}
